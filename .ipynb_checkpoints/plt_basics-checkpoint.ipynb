{
 "cells": [
  {
   "cell_type": "code",
   "execution_count": null,
   "metadata": {},
   "outputs": [],
   "source": [
    "%matplotlib inline\n",
    "import matplotlib.pyplot as plt"
   ]
  },
  {
   "cell_type": "code",
   "execution_count": null,
   "metadata": {},
   "outputs": [],
   "source": [
    "x = [1,2,3,4,5,6]\n",
    "y = [5,7,4,9,2,3]\n",
    "\n",
    "x2 = [1,2,3,4,5,6]\n",
    "y2 = [11,16,13,8,19,12]\n",
    "\n",
    "plt.plot(x,y, label = 'First')\n",
    "plt.plot(x2,y2, label = 'Second')\n",
    "\n",
    "plt.ylabel('Var')\n",
    "plt.xlabel('Plot Number')\n",
    "plt.title('Graph Example \\n nr 1')\n",
    "plt.legend()\n",
    "plt.show()"
   ]
  },
  {
   "cell_type": "code",
   "execution_count": null,
   "metadata": {},
   "outputs": [],
   "source": [
    "x = [2,4,6,8,10]\n",
    "y = [6,7,3,5,9]\n",
    "\n",
    "x2 = [1,3,5,7,9]\n",
    "y2 = [11,16,13,8,19]\n",
    "\n",
    "plt.bar(x,y, label = 'bar1', color = 'lightblue')\n",
    "plt.bar(x2,y2, label = 'bar2', color = 'orange')\n",
    "\n",
    "\n",
    "plt.ylabel('Var')\n",
    "plt.xlabel('Plot Number')\n",
    "plt.title('Graph Bar')\n",
    "plt.legend()\n",
    "plt.show()"
   ]
  },
  {
   "cell_type": "code",
   "execution_count": null,
   "metadata": {},
   "outputs": [],
   "source": [
    "ages = [14,28,34,7,44,15,87,65,55,42,11,87,42,32,14,7,94,25,27,47]\n",
    "bins = [0,10,20,30,40,50,60,70,80,90,100]\n",
    "plt.hist(ages, bins, rwidth = 0.7)\n",
    "plt.title('Ages Histogram')\n",
    "plt.xlabel('age')\n",
    "plt.ylabel('amount')\n",
    "plt.show()"
   ]
  },
  {
   "cell_type": "code",
   "execution_count": null,
   "metadata": {},
   "outputs": [],
   "source": [
    "x = [1,2,3,4,5,6,7,8]\n",
    "y = [6,8,1,2,5,8,2,9]\n",
    "plt.scatter(x,y, color = 'k', marker = 'x', s = 50)\n",
    "\n",
    "plt.title('Graph Scatter')\n",
    "plt.xlabel('x')\n",
    "plt.ylabel('y')\n",
    "plt.show()"
   ]
  },
  {
   "cell_type": "code",
   "execution_count": null,
   "metadata": {},
   "outputs": [],
   "source": [
    "days = [1,2,3,4,5]\n",
    "sleep = [7,8,6,11,7]\n",
    "work = [8,8,6,8,9]\n",
    "play = [9,8,12,5,8]\n",
    "\n",
    "plt.stackplot(days,sleep, work, play, colors = ['c', 'r', 'y'])\n",
    "\n",
    "plt.plot([],[], color = 'c', label = 'sleep',linewidth = 5)\n",
    "plt.plot([],[], color = 'r', label = 'work',linewidth = 5)\n",
    "plt.plot([],[], color = 'y', label = 'play',linewidth = 5)\n",
    "\n",
    "plt.title('Graph StackPlot')\n",
    "plt.xlabel('days')\n",
    "plt.ylabel('hours')\n",
    "plt.legend()\n",
    "plt.show()"
   ]
  },
  {
   "cell_type": "code",
   "execution_count": null,
   "metadata": {},
   "outputs": [],
   "source": [
    "slices = [8,10,6]\n",
    "activities = ['sleep', 'work', 'play']\n",
    "plt.pie(slices, labels = activities, colors = ['c','r','y'], \n",
    "        startangle = 90, \n",
    "        shadow = True,\n",
    "        explode=(0.07,0,0),\n",
    "        autopct = '%1.1f%%'\n",
    "       )\n",
    "\n",
    "plt.title('Graph Pie')\n",
    "plt.legend()\n",
    "plt.show()"
   ]
  },
  {
   "cell_type": "markdown",
   "metadata": {},
   "source": [
    "### reading from csv file"
   ]
  },
  {
   "cell_type": "code",
   "execution_count": null,
   "metadata": {},
   "outputs": [],
   "source": [
    "import csv\n",
    "x=[]\n",
    "y=[]\n",
    "\n",
    "with open('example.txt','r') as csvfile:\n",
    "    plots = csv.reader(csvfile, delimiter=',')\n",
    "    for row in plots:\n",
    "        x.append(int(row[0]))\n",
    "        y.append(int(row[1]))\n",
    "\n",
    "plt.plot(x,y, label = 'Loaded From File')\n",
    "\n",
    "plt.title('Graph')\n",
    "plt.xlabel('x')\n",
    "plt.ylabel('y')\n",
    "plt.legend()\n",
    "plt.show()"
   ]
  },
  {
   "cell_type": "markdown",
   "metadata": {},
   "source": [
    "### reading from csv files using np"
   ]
  },
  {
   "cell_type": "code",
   "execution_count": null,
   "metadata": {},
   "outputs": [],
   "source": [
    "import numpy as np\n",
    "\n",
    "x, y = np.loadtxt('example.txt', delimiter=',', unpack = True)\n",
    "\n",
    "plt.plot(x,y, label = 'Loaded From File')\n",
    "plt.title('Graph')\n",
    "plt.xlabel('x')\n",
    "plt.ylabel('y')\n",
    "plt.legend()\n",
    "plt.show()"
   ]
  },
  {
   "cell_type": "markdown",
   "metadata": {},
   "source": [
    "### data from internet"
   ]
  },
  {
   "cell_type": "code",
   "execution_count": null,
   "metadata": {},
   "outputs": [],
   "source": [
    "import urllib\n",
    "import matplotlib.dates as mdates\n",
    "\n",
    "def bytespdate2num(fmt, encoding='utf-8'):\n",
    "    strconverter = mdates.strpdate2num(fmt)\n",
    "    def bytesconverter(b):\n",
    "        s = b.decode(encoding)\n",
    "        return strconverter(s)\n",
    "    return bytesconverter\n",
    "    \n",
    "\n",
    "def graph_data(stock):\n",
    "    stock_price_url = 'https://pythonprogramming.net/yahoo_finance_replacement'\n",
    "    source_code = urllib.request.urlopen(stock_price_url).read().decode()\n",
    "    stock_data = []\n",
    "    split_source = source_code.split('\\n')\n",
    "    for line in split_source[1:]:\n",
    "        split_line = line.split(',')\n",
    "        if len(split_line) == 7:\n",
    "            if 'values' not in line and 'labels' not in line:\n",
    "                stock_data.append(line)\n",
    "\n",
    "    date, closep, highp, lowp, openp, adj_closep, volume = np.loadtxt(stock_data,\n",
    "                                                          delimiter=',',\n",
    "                                                          unpack=True,\n",
    "                                                          converters={0: bytespdate2num('%Y-%m-%d')})\n",
    "\n",
    "    plt.plot_date(date, closep,'-', label='Price')\n",
    " \n",
    "    plt.xlabel('Date')\n",
    "    plt.ylabel('Price')\n",
    "    plt.title('Graph')\n",
    "    plt.legend()\n",
    "    plt.show()\n",
    "\n",
    "\n",
    "graph_data('TSLA')"
   ]
  },
  {
   "cell_type": "markdown",
   "metadata": {},
   "source": [
    "### live graph and plotting on a pop up"
   ]
  },
  {
   "cell_type": "code",
   "execution_count": null,
   "metadata": {},
   "outputs": [],
   "source": [
    "import matplotlib.animation as animation\n",
    "from matplotlib import style\n",
    "\n",
    "style.use('fivethirtyeight')\n",
    "fig = plt.figure()\n",
    "ax1 = fig.add_subplot(1,1,1)\n",
    "\n",
    "def animate(i):\n",
    "    graph_data = open('example.txt', 'r').read()\n",
    "    lines = graph_data.split('\\n')\n",
    "    xs = []\n",
    "    ys = []\n",
    "    for line in lines:\n",
    "        if len(line) > 1:\n",
    "            x, y = line.split(',')\n",
    "            xs.append(x)\n",
    "            ys.append(y)\n",
    "    ax1.clear()\n",
    "    ax1.plot(xs,ys)\n",
    "\n",
    "ani = animation.FuncAnimation(fig, animate, interval = 1000)\n",
    "plt.show();"
   ]
  },
  {
   "cell_type": "markdown",
   "metadata": {},
   "source": [
    "### subplots"
   ]
  },
  {
   "cell_type": "code",
   "execution_count": null,
   "metadata": {},
   "outputs": [],
   "source": [
    "import random\n",
    "\n",
    "style.use('fivethirtyeight')\n",
    "fig = plt.figure()\n",
    "\n",
    "def create_plots():\n",
    "    xs = []\n",
    "    ys = []\n",
    "    \n",
    "    for i in range(10):\n",
    "        x = i\n",
    "        y = random.randrange(10)\n",
    "        \n",
    "        xs.append(x)\n",
    "        ys.append(y)\n",
    "    return xs, ys\n",
    "ax1 = fig.add_subplot(211)\n",
    "ax2 = fig.add_subplot(212)\n",
    "\n",
    "x,y = create_plots()\n",
    "ax1.plot(x,y)\n",
    "x,y = create_plots()\n",
    "ax2.plot(x,y)\n",
    "plot.show();"
   ]
  },
  {
   "cell_type": "code",
   "execution_count": null,
   "metadata": {},
   "outputs": [],
   "source": []
  }
 ],
 "metadata": {
  "kernelspec": {
   "display_name": "Python 3",
   "language": "python",
   "name": "python3"
  },
  "language_info": {
   "codemirror_mode": {
    "name": "ipython",
    "version": 3
   },
   "file_extension": ".py",
   "mimetype": "text/x-python",
   "name": "python",
   "nbconvert_exporter": "python",
   "pygments_lexer": "ipython3",
   "version": "3.8.3"
  }
 },
 "nbformat": 4,
 "nbformat_minor": 4
}
